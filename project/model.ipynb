{
 "cells": [
  {
   "cell_type": "code",
   "execution_count": 1,
   "metadata": {},
   "outputs": [],
   "source": [
    "import pandas as pd\n",
    "import numpy as np\n",
    "import matplotlib.pyplot as plt"
   ]
  },
  {
   "cell_type": "code",
   "execution_count": 1,
   "metadata": {},
   "outputs": [
    {
     "name": "stdout",
     "output_type": "stream",
     "text": [
      "right 0.005637952105034763\n",
      "wrong 0.0023701309864257157\n"
     ]
    },
    {
     "name": "stderr",
     "output_type": "stream",
     "text": [
      "reading data...0...done!\n",
      "test\t20727.0 (p=18.1, h=20708.9, l2=0.0)\tmae(p)=0.240\tcor(p)=0.029\tmae(h)=93.504\tcor(h)=-0.054\n"
     ]
    }
   ],
   "source": [
    "from experiment import SpacedRepetitionModel, read_data\n",
    "\n",
    "\n",
    "input_file = 'learning_traces.13m.csv'\n",
    "method = 'hlr'\n",
    "omit_bias = True\n",
    "omit_lexemes = True\n",
    "max_lines = 1000\n",
    "omit_h_term = True\n",
    "\n",
    "# read data set\n",
    "trainset, testset = read_data(input_file, method, omit_bias, omit_lexemes, max_lines)\n",
    "\n",
    "# train model & print preliminary evaluation info\n",
    "model = SpacedRepetitionModel(method=method, omit_h_term=omit_h_term)\n",
    "model.train(trainset)\n",
    "model.eval(testset, 'test')\n",
    "\n",
    "# write out model weights and predictions\n",
    "# you might want to adjust the file paths and names to suit your needs\n",
    "model.dump_weights('results/weights')\n",
    "model.dump_predictions('results/preds', testset)"
   ]
  },
  {
   "cell_type": "markdown",
   "metadata": {},
   "source": []
  },
  {
   "cell_type": "code",
   "execution_count": 45,
   "metadata": {},
   "outputs": [
    {
     "name": "stdout",
     "output_type": "stream",
     "text": [
      "1.0\n",
      "0.5\n",
      "1.0\n",
      "0.5\n",
      "1.0\n",
      "1.0\n",
      "1.0\n",
      "1.0\n",
      "1.0\n",
      "0.75\n",
      "0.888888888889\n",
      "0.8\n",
      "0.8\n",
      "1.0\n",
      "1.0\n",
      "1.0\n",
      "0.0\n",
      "1.0\n",
      "0.0\n"
     ]
    }
   ],
   "source": [
    "df = pd.read_csv('learning_traces.13m.csv', header=None, nrows=20)\n",
    "for i in range(1, len(df)):\n",
    "    print(df[0][i])\n"
   ]
  },
  {
   "cell_type": "code",
   "execution_count": 43,
   "metadata": {},
   "outputs": [
    {
     "data": {
      "text/plain": [
       "0           p_recall\n",
       "1                1.0\n",
       "2                0.5\n",
       "3                1.0\n",
       "4                0.5\n",
       "5                1.0\n",
       "6                1.0\n",
       "7                1.0\n",
       "8                1.0\n",
       "9                1.0\n",
       "10              0.75\n",
       "11    0.888888888889\n",
       "12               0.8\n",
       "13               0.8\n",
       "14               1.0\n",
       "15               1.0\n",
       "16               1.0\n",
       "17               0.0\n",
       "18               1.0\n",
       "19               0.0\n",
       "Name: 0, dtype: object"
      ]
     },
     "execution_count": 43,
     "metadata": {},
     "output_type": "execute_result"
    }
   ],
   "source": [
    "df[0]"
   ]
  }
 ],
 "metadata": {
  "kernelspec": {
   "display_name": "Python 3",
   "language": "python",
   "name": "python3"
  },
  "language_info": {
   "codemirror_mode": {
    "name": "ipython",
    "version": 3
   },
   "file_extension": ".py",
   "mimetype": "text/x-python",
   "name": "python",
   "nbconvert_exporter": "python",
   "pygments_lexer": "ipython3",
   "version": "3.11.8"
  }
 },
 "nbformat": 4,
 "nbformat_minor": 2
}
